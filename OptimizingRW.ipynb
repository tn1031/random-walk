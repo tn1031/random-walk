{
 "cells": [
  {
   "cell_type": "markdown",
   "metadata": {},
   "source": [
    "# Random walk のアルゴリズムとデータ構造\n",
    "最適化に際し，アルゴリズムとデータ構造の選択は重要である． $O(n^2)$ をどれだけ速くしたところで $O(n)$ を上回ることはなく，効率の悪いデータ構造はアルゴリズムの性能を低下させる恐れがある．"
   ]
  },
  {
   "cell_type": "markdown",
   "metadata": {},
   "source": [
    "## アルゴリズム\n",
    "\n",
    "二部グラフ上の Random walk を利用したレコメンドを考える．\n",
    "あるノードを始点とする1ステップは，\n",
    "\n",
    "1. 近傍の取得\n",
    "2. 乱数による近傍の選択\n",
    "3. ノード遷移\n",
    "\n",
    "から構成される．これを一定回数繰り返し，到達したノードをカウントする．集計して得られた値をクエリに対する各ノードの関連度とする．\n",
    "ここで，現在地点は一定確率 $\\alpha$ でリセットされる．\n",
    "\n",
    "```python\n",
    "curr_node = query_node\n",
    "for i in range(n_steps):\n",
    "    curr_node = curr_node.get_random_neighbor()\n",
    "    curr_node = curr_node.get_random_neighbor()\n",
    "    curr_node.visit_count += 1\n",
    "    if random() < alpha:\n",
    "        curr_node = query_node\n",
    "```"
   ]
  },
  {
   "cell_type": "markdown",
   "metadata": {},
   "source": [
    "## データ構造\n",
    "あるノードの近傍の取得は，2種類の array によって実現できる．\n",
    "\n",
    "- **adjacency**:\n",
    "ノードの近傍を保持したリストをノードID順に連結した array\n",
    "\n",
    "- **offsets**:\n",
    "ノードの次数をノードID順に累積した array\n",
    "\n",
    "ノード n の次数と近傍の取得はそれぞれ定数時間で達成できる.\n",
    "\n",
    "```python\n",
    "degree = offsets[n+1] - offsets[n]\n",
    "neighbor = adjacency[offsets[n]:offsets[n+1]]\n",
    "```\n",
    "\n",
    "\n",
    "\n",
    "(参考:adjacency と offsets の生成)\n",
    "\n",
    "df を インタラクションを表すタプル( `(<user_id>, <item_id>)` )のリストとしたとき，\n",
    "```python\n",
    "ui_adj = df.groupby(\"user_id\").item_id.apply(list)\n",
    "iu_adj = df.groupby(\"item_id\").user_id.apply(list)\n",
    "adjacency = pd.concat([ui_adj, iu_adj])\n",
    "offsets = adjacency.apply(len)\n",
    "offsets = np.cumsum([0] + offsets.tolist())\n",
    "adjacency = np.concatenate(adjacency.tolist())\n",
    "```"
   ]
  },
  {
   "cell_type": "markdown",
   "metadata": {
    "scrolled": false
   },
   "source": [
    "# Python による実装"
   ]
  },
  {
   "cell_type": "code",
   "execution_count": null,
   "metadata": {},
   "outputs": [],
   "source": [
    "!cat randomwalk/rw.py"
   ]
  },
  {
   "cell_type": "code",
   "execution_count": null,
   "metadata": {},
   "outputs": [],
   "source": [
    "%run -t run.py model/ -m vanilla"
   ]
  },
  {
   "cell_type": "markdown",
   "metadata": {},
   "source": [
    "# プロファイリング\n",
    "最適化に向けてプロファイリングを行う．ここでは `cProfile` と `line_profiler` を用いる．"
   ]
  },
  {
   "cell_type": "markdown",
   "metadata": {},
   "source": [
    "## cProfile\n",
    "すべての関数の実行時間を測定する．"
   ]
  },
  {
   "cell_type": "code",
   "execution_count": null,
   "metadata": {},
   "outputs": [],
   "source": [
    "# 見辛いのでターミナルでの実行を推奨\n",
    "# python -m cProfile -s time run.py model/ -m vanilla > cprof\n",
    "%run -p run.py model/ -m vanilla"
   ]
  },
  {
   "cell_type": "code",
   "execution_count": null,
   "metadata": {},
   "outputs": [],
   "source": [
    "!head -n 20 cprof"
   ]
  },
  {
   "cell_type": "markdown",
   "metadata": {},
   "source": [
    "近傍の取得 `get_neighbors` が 1,437,131 回呼ばれ，合計 1.6 秒費やしていることが確認できる。\n",
    "近傍のサンプリング `sample_neighbor` の内部で `get_neighbors` が呼ばれるため， `get_neighbors` がボトルネックであることが特定できた．"
   ]
  },
  {
   "cell_type": "markdown",
   "metadata": {},
   "source": [
    "## line_profiler\n",
    "特定の関数について，行単位の実行時間を測定する．\n",
    "既にボトルネックは特定できているが，関数の詳細なプロファイリングによって関数全体に対するボトルネックの実行時間の割合を明らかにすることで改善の余地を見積もることができる．"
   ]
  },
  {
   "cell_type": "markdown",
   "metadata": {},
   "source": [
    "**ターミナルで実行**\n",
    "\n",
    "プロファイルを取得する関数に `@profile` デコレータを付与する．\n",
    "\n",
    "```python\n",
    "    @profile\n",
    "    def pixie_random_walk(self, q, steps):\n",
    "        visit_count = Counter()\n",
    "        total_steps = 0\n",
    "        n_high_visited = 0\n",
    "\n",
    "        while (...\n",
    "```\n",
    "\n",
    "その後，ターミナルから以下コマンドを実行する．\n",
    "            \n",
    "```bash\n",
    "kernprof -l -v run.py model/ -m vanilla > lprof\n",
    "```"
   ]
  },
  {
   "cell_type": "markdown",
   "metadata": {},
   "source": [
    "**スクリプトから実行**\n",
    "\n",
    "デコレータは不要．以下を実行する．"
   ]
  },
  {
   "cell_type": "code",
   "execution_count": null,
   "metadata": {},
   "outputs": [],
   "source": [
    "import line_profiler\n",
    "from run import main\n",
    "from randomwalk.rw import RandomWalk\n",
    "\n",
    "profile = line_profiler.LineProfiler(RandomWalk().pixie_random_walk)\n",
    "profile.runcall(main, \"model/\", \"vanilla\")\n",
    "profile.print_stats()"
   ]
  },
  {
   "cell_type": "markdown",
   "metadata": {},
   "source": [
    "`pixie_random_walk` 関数の while 文内部で `sample_neighbor` が2回呼び出され，合計で 50% 強の時間を費やしていることが確認できた．\n",
    "\n",
    "## ボトルネックの改善効果を見積もる\n",
    "\n",
    "ボトルネックの関数全体に対する寄与を定量化した．この値とアムダールの法則により関数全体の実行時間改善率を見積もることができる．\n",
    "$S_T$ を関数全体の改善率， $P$ を最適化対象部分の全実行時間に対する割合， $S_P$ を最適化した部分 $P$ の改善率として，\n",
    "\n",
    "$$\n",
    "S_T = \\frac{1}{(1-P) + \\frac{P}{S_P}}\n",
    "$$\n",
    "\n",
    ".仮に `sample_neighbor` を 50% 改善したとすると，関数全体の改善率は，\n",
    "\n",
    "$$\n",
    "\\frac{1}{(1-0.5) + \\frac{0.5}{1.5}} = 1.2\n",
    "$$\n",
    "\n",
    "となる.ボトルネックを 50% 改善できたとしても関数全体では 20% の改善に留まる． `cProfile` の結果を参考値として用いると( `cProfile` のほうが `line_profiler` よりオーバーヘッドが小さい)， `pixie_random_walk` の実行時間 5.4 秒が 1 秒程度短縮される可能性がある．\n",
    "\n",
    "目標の実行速度から必要な改善率を求め，最適化戦略を組み立てる必要がある．"
   ]
  },
  {
   "cell_type": "code",
   "execution_count": null,
   "metadata": {},
   "outputs": [],
   "source": [
    "1/(0.5 + 1./3)"
   ]
  },
  {
   "cell_type": "markdown",
   "metadata": {},
   "source": [
    "# 結果的に効果が薄かった最適化\n",
    "プロファイラの指摘を直接改善するものではないが，手軽に着手可能な最適化を試す．"
   ]
  },
  {
   "cell_type": "markdown",
   "metadata": {},
   "source": [
    "## LRU キャッシュ\n",
    "Web データから構築したグラフにはハブが存在することが多い．すなわち，特定のノードはアクセス頻度が大きい．このようなデータ特性を持つ場合， キャッシュが効く可能性がある．今回は LRU キャッシュを適用する．\n",
    "\n",
    "[LRU キャッシュ](https://ja.wikipedia.org/wiki/%E3%82%AD%E3%83%A3%E3%83%83%E3%82%B7%E3%83%A5%E3%82%A2%E3%83%AB%E3%82%B4%E3%83%AA%E3%82%BA%E3%83%A0#.E4.BE.8B)\n",
    "> Least Recently Used (LRU): 最近最も使われていないデータを最初に捨てる。このアルゴリズムでは、どのデータがどの時点で使われたかという情報を保持する必要があり、本当に最近最も使われていないデータを常に捨てるようにしようとすると、かなり手間がかかる。一般的実装では、キャッシュライン毎に世代ビット群（age bits）を持たせ、どのラインが最近最も使われていないかを世代ビット群で判断する。その場合、あるキャッシュラインを使うときには、常に全キャッシュラインの世代ビット群を更新する必要がある。\n",
    "\n",
    "[@functools.lru_cache](https://docs.python.org/ja/3/library/functools.html#functools.lru_cache)\n",
    "> LRU (least recently used) キャッシュ は、最新の呼び出しが次も呼び出される可能性が最も高い場合 (例えば、ニュースサーバーの最も人気のある記事は、毎日変わる傾向にあります) に最も効率が良くなります。キャッシュのサイズ制限は、キャッシュがウェブサーバーなどの長期間に渡るプロセスにおける限界を超えては大きくならないことを保証します。\n",
    "\n",
    "> 一般的には、 LRU キャッシュは前回計算した値を再利用したいときにのみ使うべきです。 そのため、副作用のある関数、呼び出すごとに個別の可変なオブジェクトを作成する必要がある関数、 time() や random() のような純粋でない関数をキャッシュする意味はありません。\n",
    "\n",
    "Python の LRU キャッシュ は `functools` に実装されている．キャッシュ対象の関数をデコレートして有効化する．\n",
    "\n",
    "```python\n",
    "@lru_cache(maxsize=None)\n",
    "def get_neighbors(self, node):\n",
    "    min_id = self._offsets[node]\n",
    "    max_id = self._offsets[node + 1]\n",
    "    return self._adjacency[min_id:max_id]\n",
    "```"
   ]
  },
  {
   "cell_type": "code",
   "execution_count": null,
   "metadata": {},
   "outputs": [],
   "source": [
    "# 編集箇所は 3 行のみ\n",
    "!diff randomwalk/rw.py randomwalk/rw_cache.py"
   ]
  },
  {
   "cell_type": "code",
   "execution_count": null,
   "metadata": {},
   "outputs": [],
   "source": [
    "%run -t run.py model/ -m cache"
   ]
  },
  {
   "cell_type": "markdown",
   "metadata": {},
   "source": [
    "`run_random_walk` の平均実行時間に若干の改善が見られた．"
   ]
  },
  {
   "cell_type": "markdown",
   "metadata": {},
   "source": [
    "## 並列処理\n",
    "一応並列処理も試みる．\n",
    "\n",
    "`run_random_walk` では，クエリノードの近傍全てについて `pixie_random_walk` を実行している．ここで，各実行を  `multiprocessing` モジュールで並列化する．\n",
    "\n",
    "```python\n",
    "with Pool() as pool:\n",
    "    results = pool.starmap_async(\n",
    "        self.pixie_random_walk, zip(query_items, steps_per_query)\n",
    "    ).get()\n",
    "```"
   ]
  },
  {
   "cell_type": "code",
   "execution_count": null,
   "metadata": {},
   "outputs": [],
   "source": [
    "%run -t run.py model/ -m parallel"
   ]
  },
  {
   "cell_type": "markdown",
   "metadata": {},
   "source": [
    "`run_random_walk` の平均実行時間は悪化する結果となった．ここで，今回の並列化箇所はアルゴリズムの性質上あまり有効でないと思われる．\n",
    "\n",
    "並列実行の最適化次第では改善の可能性は存在するものの，プロファイラが指摘した改善とは異なるのでこれ以上は扱わない．"
   ]
  },
  {
   "cell_type": "markdown",
   "metadata": {},
   "source": [
    "# Cython\n",
    "プロファイリングにより，ボトルネックは `numpy.ndarray` の要素へのアクセスであることがわかっている．Pythonレベルでこれ以上の改善は期待できないため， Cython の導入を検討する．"
   ]
  },
  {
   "cell_type": "markdown",
   "metadata": {},
   "source": [
    "## Cython とは\n",
    "- Python に C の静的型付けシステムを導入するプログラミング言語\n",
    "- Cython によって記述されたソースコードを C または C++ のソースコードに変換するコンパイラ\n",
    "\n",
    "Python は動的インタプリタ言語であり，直感的で柔軟である．柔軟性と安全性を両立するために Python のAPIの背後にはバリデーション処理などが厚く存在し，これがオーバーヘッドとなっている．このため，静的型付け言語と比較すると低速となる．\n",
    "\n",
    "Cython は Python によく似た文法で記述することが可能であり， Cython で記述されたソースコードは `cython` コンパイラが C コードに変換する．変換後は Python の余計な安全装置などが取り除かれ，必要最低限な API だけが残るため，純粋な C や C++ に近い性能を発揮する．"
   ]
  },
  {
   "cell_type": "markdown",
   "metadata": {},
   "source": [
    "## Cython 実装ファイルとコンパイル\n",
    "### 実装ファイル\n",
    "Cython の実装ファイルには `.pyx` という拡張子が付く．これの他に，宣言ファイルとして `.pxd` という拡張子が存在する． C++ のヘッダーファイルに近い機能を提供するが，今回は扱わない．\n",
    "\n",
    "まずは呼び出しの多い `sample_neighbor` 関数を対象として Cython 化を試みる． `c_sample_neighbor.pyx` というファイルを作成して以下の通り記述する．"
   ]
  },
  {
   "cell_type": "code",
   "execution_count": null,
   "metadata": {},
   "outputs": [],
   "source": [
    "!cat randomwalk/c_sample_neighbor.pyx"
   ]
  },
  {
   "cell_type": "markdown",
   "metadata": {},
   "source": [
    "Python から呼ばれる関数は `cpdef` で定義する．通常， Cython の関数定義は `cdef` キーワードを用いるが， `cdef` で定義された関数には Cython からしかアクセスできない．今回定義した `_c_sample_neighbor` は 外部の Python コードから呼ぶことを想定しているため， `cpdef` で宣言して Python からの呼び出しを許可する．\n",
    "\n",
    "`long[:] adjacency` という構文は `adjacency` が型付き memoryview 型であることを宣言する． memoryview 型はバッファの操作を目的とする Python の組み込み型であり， `numpy.ndarray` もこれをサポートする．重要なのは， memoryview 型で受ければ `numpy.ndarray` をデータのコピーなしに Cython に渡せるということである． `adjacency` は非常に巨大な array であるが，受け渡しのオーバーヘッドは小さい．\n",
    "\n",
    "関数内部で使用するローカルな変数は `cdef` ブロックで宣言する．ここですべての変数を宣言することが重要である．宣言がなくてもプログラムは問題なく実行されるが，宣言されていない変数に対しては背後で Python の型推論が実行されるので Cython の恩恵を受けられない．\n",
    "\n",
    "`_c_sample_neighbor` を呼び出す Python ファイルは大きな編集を必要としない． Cython モジュールをまるで Python モジュールであるかのように利用できる．\n",
    "\n",
    "```python\n",
    "# モジュールのインポート\n",
    "from c_sample_neighbor import _c_sample_neighbor\n",
    "```\n",
    "```python\n",
    "# モジュールの呼び出し\n",
    "curr_user = _c_sample_neighbor(\n",
    "    self._adjacency, self._offsets, curr_item\n",
    ")\n",
    "```"
   ]
  },
  {
   "cell_type": "markdown",
   "metadata": {},
   "source": [
    "### コンパイル\n",
    "コンパイルは `setup.py` によって行う．以下の通り記述された `setup.py` を配置する．\n",
    "\n",
    "```python\n",
    "from distutils.core import setup\n",
    "from Cython.Build import cythonize\n",
    "\n",
    "setup(ext_modules=cythonize(\"randomwalk/c_sample_neighbor.pyx\")) \n",
    "```\n",
    "\n",
    "コンパイルの実行は以下のコマンドで行う．\n",
    "\n",
    "```bash\n",
    "python setup.py build_ext --inplace\n",
    "```\n",
    "\n",
    "引数 `build_ext` は `Extension` オブジェクトを拡張モジュールにビルドする指示を出す. `--inplace` オプションは拡張モジュールを実装ファイルと同じディレクトリに配置する指示を出す．\n",
    "\n",
    "コンパイルを実行すると `randomwalk/` に `c_sample_neighbor.c` というファイルが生成されている．開いてみると，何やら壮絶な定義文が綴られているが C のソースコードであることはわかる．"
   ]
  },
  {
   "cell_type": "code",
   "execution_count": null,
   "metadata": {},
   "outputs": [],
   "source": [
    "!ls -ltr randomwalk/ | tail -n 1 "
   ]
  },
  {
   "cell_type": "code",
   "execution_count": null,
   "metadata": {},
   "outputs": [],
   "source": [
    "!cat randomwalk/c_sample_neighbor.c"
   ]
  },
  {
   "cell_type": "markdown",
   "metadata": {},
   "source": [
    "これまでと同様の手順で実行して時間を計測する．"
   ]
  },
  {
   "cell_type": "code",
   "execution_count": null,
   "metadata": {},
   "outputs": [],
   "source": [
    "%run -p run.py model/ -m cy"
   ]
  },
  {
   "cell_type": "markdown",
   "metadata": {},
   "source": [
    "## 再度の line_profiler\n",
    "`sample_neighbor` を Cython 化したことによって `pixie_random_walk` の挙動がどの様に変化したかを調べるために `line_profiler` を実行する．"
   ]
  },
  {
   "cell_type": "code",
   "execution_count": null,
   "metadata": {},
   "outputs": [],
   "source": [
    "from randomwalk.rw_cy import RandomWalk\n",
    "\n",
    "profile = line_profiler.LineProfiler(RandomWalk().pixie_random_walk)\n",
    "profile.runcall(main, \"model/\", \"cy\")\n",
    "profile.print_stats()"
   ]
  },
  {
   "cell_type": "markdown",
   "metadata": {},
   "source": [
    "`pixie_random_walk` 実行時間全体に占める `sample_neighbor` の割合が 40% 弱に減少したことが確認できる( try-except 構文から if 文に変更した分も影響する)．確かに改善はしたが，効果は大きいとは言えない．さらなる改善に向けて新しいツールを導入する．"
   ]
  },
  {
   "cell_type": "markdown",
   "metadata": {},
   "source": [
    "## Python APIの発見(コードアノテーション)\n",
    "Cython は Python と C (や C++) のハイブリッド言語であり， C の API が扱えない部分に関しては Python の APIが実行される．\n",
    "例えば先に述べたとおり，宣言がされていない変数に対しては Python の型推論が実行される．\n",
    "この通り， C-Python 間の解釈が自動化されているため，意図せず Python API を呼び出している場合が存在し，性能低下の原因となる．\n",
    "\n",
    "これを解決するために，関数中の Python API を探すためのツールとして Cython はコードアノテータと呼ばれる機能を提供する．\n",
    "\n",
    "重要なのは，プロファイラは関数の「どこが遅いのか」を特定するツールであり，コードアノテータは「なぜ遅いのか」を特定するツールであるということである．\n",
    "\n",
    "コードアノテータは以下のコマンドで実行する．\n",
    "\n",
    "```bash\n",
    "cython --annotate randomwalk/c_sample_neighbor.pyx\n",
    "```\n",
    "\n",
    "これを実行すると， `randomwalk` 配下に `c_sample_neighbor.html` というファイルが生成される．"
   ]
  },
  {
   "cell_type": "code",
   "execution_count": null,
   "metadata": {},
   "outputs": [],
   "source": [
    "!open randomwalk/c_sample_neighbor.html"
   ]
  },
  {
   "cell_type": "markdown",
   "metadata": {},
   "source": [
    "注目すべきは 3 行目と 17 行目である． `_c_sample_neighbor` は Python からの呼び出しを想定しているため，関数の入り口と出口で必ず C と Python の変換が実行される．行を展開すると変換処理の厚みを確認できる．そして `_c_sample_neighbor` はループの中で実行されるため，この処理はイテレーションのたびに実行される．コードアノテーションによって Cython の効果を最大化できていないことがわかった．\n",
    "\n",
    "ちなみに 11,12 行目の薄いラインは `IndexError` のバリデーションに起因する． `IndexError` が発生しないことがわかっている場合，以下のように関数をデコレートしてバリデーションを排除することができる．\n",
    "\n",
    "```python\n",
    "@cython.boundscheck(False)\n",
    "@cython.wraparound(False)\n",
    "cdef long _c_sample_neighbor(\n",
    "    ...\n",
    "```"
   ]
  },
  {
   "cell_type": "markdown",
   "metadata": {},
   "source": [
    "## 関数全体の Cythonize\n",
    "変換処理が低速化の原因であることから，高速化を望むのであればループをすべて Cython で記述するしかない． `c_randomwalk.pyx` では Random walk のほぼすべての処理を Cython で記述している．コードアノテータを利用して極力 Python API を排除した．\n",
    "\n",
    "```bash\n",
    "cython --annotate randomwalk/c_randomwalk.pyx\n",
    "```\n",
    "\n",
    "これを実行すると実行時間が劇的に改善されていることが確認できる．"
   ]
  },
  {
   "cell_type": "code",
   "execution_count": null,
   "metadata": {},
   "outputs": [],
   "source": [
    "%run -p run.py model/ -m cython"
   ]
  },
  {
   "cell_type": "markdown",
   "metadata": {},
   "source": [
    "# 参考\n",
    "- [ハイパフォーマンスPython](https://www.amazon.co.jp/dp/4873117402)\n",
    "- [Cython ―Cとの融合によるPythonの高速化](https://www.amazon.co.jp/dp/4873117275)\n",
    "- [Optimized C++ ―最適化、高速化のためのプログラミングテクニック](https://www.amazon.co.jp/dp/4873117925)\n",
    "- [scikit-learn](https://scikit-learn.org/stable/)\n",
    "- [Eksombatchai et al. 2018](https://labs.pinterest.com/user/themes/pin_labs/assets/paper/paper-pixie.pdf)\n",
    "- [Paudel et al. 2016](https://dl.acm.org/doi/10.1145/2955101)"
   ]
  }
 ],
 "metadata": {
  "kernelspec": {
   "display_name": "Python 3",
   "language": "python",
   "name": "python3"
  },
  "language_info": {
   "codemirror_mode": {
    "name": "ipython",
    "version": 3
   },
   "file_extension": ".py",
   "mimetype": "text/x-python",
   "name": "python",
   "nbconvert_exporter": "python",
   "pygments_lexer": "ipython3",
   "version": "3.7.3"
  },
  "toc": {
   "base_numbering": 1,
   "nav_menu": {},
   "number_sections": true,
   "sideBar": true,
   "skip_h1_title": false,
   "title_cell": "Table of Contents",
   "title_sidebar": "Contents",
   "toc_cell": false,
   "toc_position": {},
   "toc_section_display": true,
   "toc_window_display": true
  }
 },
 "nbformat": 4,
 "nbformat_minor": 2
}
